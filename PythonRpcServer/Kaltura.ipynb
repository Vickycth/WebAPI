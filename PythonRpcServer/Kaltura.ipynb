{
 "cells": [
  {
   "cell_type": "markdown",
   "metadata": {},
   "source": [
    "# A guide to creating a Kaltura Integration"
   ]
  },
  {
   "cell_type": "code",
   "execution_count": 14,
   "metadata": {},
   "outputs": [],
   "source": [
    "from KalturaClient import *\n",
    "from KalturaClient.Plugins.Core import *\n",
    "import hashlib\n",
    "import json\n",
    "import os"
   ]
  },
  {
   "cell_type": "markdown",
   "metadata": {},
   "source": [
    "## Step 1: Create app Token (to be done by admin of Kaltura)"
   ]
  },
  {
   "cell_type": "code",
   "execution_count": 15,
   "metadata": {},
   "outputs": [],
   "source": [
    "def generateAppToken(adminSecret, adminUserId, partnerId, expiryDuration, sessionUserId, sessionPrivileges):\n",
    "    \n",
    "    # generate admin ks\n",
    "    config = KalturaConfiguration(partnerId)\n",
    "    config.serviceUrl = \"https://www.kaltura.com/\"\n",
    "    client = KalturaClient(config)\n",
    "    ks = client.session.start(\n",
    "                adminSecret,\n",
    "                adminUserId,\n",
    "                KalturaSessionType.USER,\n",
    "                partnerId)\n",
    "    \n",
    "    client.setKs(ks)\n",
    "    # create the app token\n",
    "    appToken = KalturaAppToken()\n",
    "    appToken.hashType = KalturaAppTokenHashType.SHA256\n",
    "    appToken.sessionPrivileges = sessionPrivileges\n",
    "    appToken.sessionType = KalturaSessionType.USER\n",
    "    appToken.sessionUserId = sessionUserId\n",
    "    appToken.sessionDuration = expiryDuration\n",
    "\n",
    "    result = client.appToken.add(appToken);\n",
    "    res = {\"tokenId\": result.id, \"appToken\": result.token}    \n",
    "    return res"
   ]
  },
  {
   "cell_type": "markdown",
   "metadata": {},
   "source": [
    "### Fill in the following, and uncomment"
   ]
  },
  {
   "cell_type": "code",
   "execution_count": 16,
   "metadata": {},
   "outputs": [],
   "source": [
    "# admin_secret = '' # Available on the kaltura management console\n",
    "# admin_user_id = '' # Mail id of the kaltura admin\n",
    "# partner_id = # An integer number, available on the kaltura management console\n",
    "# expiry_duration = # An integer, duration in seconds for the token to be valid for\n",
    "# session_user_id = # Kaltura userId to which the appToken will be granted\n",
    "# session_privileges = # A string containing the privileges to be granted to this token"
   ]
  },
  {
   "cell_type": "markdown",
   "metadata": {},
   "source": [
    "### Copy the 'tokenId' and 'appToken' generated above and give to whom this token is generated for"
   ]
  },
  {
   "cell_type": "code",
   "execution_count": 18,
   "metadata": {},
   "outputs": [
    {
     "name": "stdout",
     "output_type": "stream",
     "text": [
      "{'tokenId': '1_u3xkbso0', 'appToken': '0f30a9fa67ac302225fe8c85527f9ada'}\n"
     ]
    }
   ],
   "source": [
    "appToken = generateAppToken(admin_secret, admin_user_id, partner_id, expiry_duration, session_user_id, session_privileges)\n",
    "print(appToken)"
   ]
  },
  {
   "cell_type": "markdown",
   "metadata": {},
   "source": [
    "## Step 2: Using the appToken generate a Kaltura Client"
   ]
  },
  {
   "cell_type": "code",
   "execution_count": 19,
   "metadata": {},
   "outputs": [],
   "source": [
    "def getClient(partnerId, tokenId, appToken):\n",
    "    config = KalturaConfiguration(partnerId)\n",
    "    config.serviceUrl = \"https://www.kaltura.com/\"\n",
    "    client = KalturaClient(config)\n",
    "    # generate a widget session in order to use the app token\n",
    "    widgetId = \"_\"+str(partnerId)\n",
    "    expiry = 864000\n",
    "    result = client.session.startWidgetSession(widgetId, expiry);\n",
    "    client.setKs(result.ks)    \n",
    "    \n",
    "    # generate token hash from ks + appToken\n",
    "    tokenHash = hashlib.sha256(result.ks.encode('ascii')+appToken.encode('ascii')).hexdigest()    \n",
    "    # start an app token session\n",
    "    result = client.appToken.startSession(tokenId, tokenHash, '', '', expiry);\n",
    "    client.setKs(result.ks)    \n",
    "    return client"
   ]
  },
  {
   "cell_type": "markdown",
   "metadata": {},
   "source": [
    "### Uncomment and fill the following code block to generate KalturaClient"
   ]
  },
  {
   "cell_type": "code",
   "execution_count": 20,
   "metadata": {},
   "outputs": [],
   "source": [
    "# partner_id = # An integer number, available on the kaltura management console\n",
    "# tokenId = # Kaltura userId to which the appToken will be granted\n",
    "# appToken = # A string containing the privileges to be granted to this token"
   ]
  },
  {
   "cell_type": "markdown",
   "metadata": {},
   "source": [
    "### Use the client object for all further api requests"
   ]
  },
  {
   "cell_type": "code",
   "execution_count": 22,
   "metadata": {},
   "outputs": [],
   "source": [
    "client = getClient(partner_id, tokenId, appToken)"
   ]
  },
  {
   "cell_type": "markdown",
   "metadata": {},
   "source": [
    "### Utilize the functions below to get channels, playlists and media"
   ]
  },
  {
   "cell_type": "code",
   "execution_count": 23,
   "metadata": {},
   "outputs": [],
   "source": [
    "def getMediaInfo(mediaId):\n",
    "    mediaEntry = client.media.get(mediaId, -1)\n",
    "    media = {'id': mediaEntry.id, \n",
    "                'downloadUrl': mediaEntry.downloadUrl, \n",
    "                'name': mediaEntry.name,\n",
    "                'description': mediaEntry.description,\n",
    "                'createdAt': mediaEntry.createdAt\n",
    "             }\n",
    "    return media\n",
    "\n",
    "def getKalturaPlaylist(kalturaPlaylistId):\n",
    "    playlist = client.playlist.get(kalturaPlaylistId, -1)\n",
    "    mediaIds = playlist.getPlaylistContent().split(',')\n",
    "    return mediaIds\n",
    "\n",
    "def getKalturaAllChannelIds():\n",
    "    channels = client.category.list()\n",
    "    channelIds = [x.id for x in channels.objects]\n",
    "    return channelIds\n",
    "\n",
    "def getKalturaChannel(channelId):\n",
    "    return client.category.get(channelId)\n",
    "    \n",
    "def getKalturaChannelEntries(channelId):    \n",
    "    a = KalturaCategoryEntryFilter()\n",
    "    a.categoryIdEqual = channelId\n",
    "    b = KalturaFilterPager()    \n",
    "    entries = client.categoryEntry.list(a, b)    \n",
    "    res = []\n",
    "    for entry in entries.objects:\n",
    "        res.append(getMediaInfo(entry.entryId))    \n",
    "    return json.dumps(res)"
   ]
  },
  {
   "cell_type": "code",
   "execution_count": null,
   "metadata": {},
   "outputs": [],
   "source": [
    "DATA_DIR = os.getenv('DATA_DIRECTORY')\n",
    "KALTURA_ADMIN_SECRET = os.getenv('KALTURA_ADMIN_SECRET')\n",
    "KALTURA_USER_ID = os.getenv('KALTURA_USER_ID')\n",
    "KALTURA_PARTNER_ID = int(os.getenv('KALTURA_PARTNER_ID'))\n",
    "KALTURA_TOKEN_ID = os.getenv('KALTURA_TOKEN_ID')\n",
    "KATLURA_APP_TOKEN = os.getenv('KALTURA_APP_TOKEN')\n",
    "\n",
    "# generate a session in order to create the app token\n",
    "#partner_id=KALTURA_PARTNER_ID\n",
    "#userId = 'macgregr@illinois.edu'\n",
    "#admin_secret=KALTURA_ADMIN_SECRET\n",
    "\n",
    "# partner_id = 2614221\n",
    "# userId = KALTURA_USER_ID\n",
    "# admin_secret = '44a5ca9cf7c6a508ab163884c2493d2a'\n",
    "# Fill in the following, and uncomment\n",
    "admin_secret = KALTURA_ADMIN_SECRET # Available on the kaltura management console\n",
    "admin_user_id = 'macgregr@illinois.edu' # Mail id of the kaltura admin\n",
    "partner_id = KALTURA_PARTNER_ID # An integer number, available on the kaltura management console\n",
    "expiry_duration = 86400 # An integer, duration in seconds for the token to be valid for\n",
    "session_user_id = 'mahipal2@illinois.edu' # Kaltura userId to which the appToken will be granted\n",
    "session_privileges = '' # A string containing the privileges to be granted to this token"
   ]
  }
 ],
 "metadata": {
  "kernelspec": {
   "display_name": "Python 3",
   "language": "python",
   "name": "python3"
  },
  "language_info": {
   "codemirror_mode": {
    "name": "ipython",
    "version": 3
   },
   "file_extension": ".py",
   "mimetype": "text/x-python",
   "name": "python",
   "nbconvert_exporter": "python",
   "pygments_lexer": "ipython3",
   "version": "3.6.9"
  }
 },
 "nbformat": 4,
 "nbformat_minor": 4
}
